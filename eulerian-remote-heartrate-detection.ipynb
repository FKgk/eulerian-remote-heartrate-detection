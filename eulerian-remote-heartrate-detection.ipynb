{
 "cells": [
  {
   "cell_type": "code",
   "execution_count": null,
   "metadata": {},
   "outputs": [],
   "source": [
    "import os\n",
    "import cv2\n",
    "import time\n",
    "import numpy as np\n",
    "import scipy.fftpack as fftpack\n",
    "from scipy import signal"
   ]
  },
  {
   "cell_type": "code",
   "execution_count": null,
   "metadata": {},
   "outputs": [],
   "source": [
    "freq_min = 1\n",
    "freq_max = 1.8\n",
    "faceCascade = cv2.CascadeClassifier(\"haarcascades/haarcascade_frontalface_alt0.xml\")"
   ]
  },
  {
   "cell_type": "code",
   "execution_count": null,
   "metadata": {},
   "outputs": [],
   "source": [
    "def build_laplacian_pyramid(img, levels):\n",
    "    gaussian_pyramid = cv2.pyrDown(img)\n",
    "\n",
    "    upsampled = cv2.pyrUp(gaussian_pyramid)\n",
    "    (height, width, depth) = upsampled.shape\n",
    "    gaussian_pyramid = cv2.resize(gaussian_pyramid, (height, width))\n",
    "\n",
    "    return cv2.subtract(gaussian_pyramid, upsampled)"
   ]
  },
  {
   "cell_type": "code",
   "execution_count": null,
   "metadata": {},
   "outputs": [],
   "source": [
    "def read_video(path):\n",
    "    cap = cv2.VideoCapture(path)\n",
    "    fps = int(cap.get(cv2.CAP_PROP_FPS))\n",
    "    video_frames = []\n",
    "    check = True\n",
    "\n",
    "    while cap.isOpened():\n",
    "        ret, img = cap.read()\n",
    "        if not ret:\n",
    "            break\n",
    "\n",
    "        if check:\n",
    "            face_detector = faceCascade.detectMultiScale(cv2.cvtColor(img, cv2.COLOR_RGB2GRAY), 1.3, 5)\n",
    "            if len(face_detector) > 0:\n",
    "                print(face_detector)\n",
    "                (x, y, w, h) = face_detector[0]\n",
    "                check = False\n",
    "        \n",
    "        if not check:\n",
    "            img = cv2.resize(img[y:y + h, x:x + w], (500, 500)) * (1. / 255)\n",
    "            video_frames.append(build_laplacian_pyramid(img, 3))\n",
    "    \n",
    "    cap.release()\n",
    "    \n",
    "    return np.array(video_frames), fps"
   ]
  },
  {
   "cell_type": "code",
   "execution_count": null,
   "metadata": {},
   "outputs": [],
   "source": [
    "def fft_filter(video, freq_min, freq_max, fps):\n",
    "    fft = fftpack.fft(video, axis=0)\n",
    "    frequencies = fftpack.fftfreq(video.shape[0], d=1.0 / fps)\n",
    "    bound_low = (np.abs(frequencies - freq_min)).argmin()\n",
    "    bound_high = (np.abs(frequencies - freq_max)).argmin()\n",
    "    fft[:bound_low] = 0\n",
    "    fft[bound_high:-bound_high] = 0\n",
    "    fft[-bound_low:] = 0\n",
    "    iff = fftpack.ifft(fft, axis=0)\n",
    "\n",
    "    return fft, frequencies"
   ]
  },
  {
   "cell_type": "code",
   "execution_count": null,
   "metadata": {},
   "outputs": [],
   "source": [
    "def find_heart_rate(fft, freqs, freq_min, freq_max):\n",
    "    fft_maximums = []\n",
    "\n",
    "    for i in range(fft.shape[0]):\n",
    "        if freq_min <= freqs[i] <= freq_max:\n",
    "            fftMap = abs(fft[i])\n",
    "            fft_maximums.append(fftMap.max())\n",
    "        else:\n",
    "            fft_maximums.append(0)\n",
    "\n",
    "    peaks, properties = signal.find_peaks(fft_maximums)\n",
    "    max_peak = -1\n",
    "    max_freq = 0\n",
    "\n",
    "    for peak in peaks:\n",
    "        if fft_maximums[peak] > max_freq:\n",
    "            max_freq = fft_maximums[peak]\n",
    "            max_peak = peak\n",
    "\n",
    "    return freqs[max_peak] * 60"
   ]
  },
  {
   "cell_type": "code",
   "execution_count": null,
   "metadata": {},
   "outputs": [],
   "source": [
    "path = 'videos/face.mp4'\n",
    "video, fps = read_video(path)"
   ]
  },
  {
   "cell_type": "code",
   "execution_count": null,
   "metadata": {},
   "outputs": [],
   "source": [
    "fft, frequencies = fft_filter(video, freq_min, freq_max, fps)"
   ]
  },
  {
   "cell_type": "code",
   "execution_count": null,
   "metadata": {},
   "outputs": [],
   "source": [
    "heart_rate = find_heart_rate(fft, frequencies, freq_min, freq_max)\n",
    "print(\"Heart rate: \", heart_rate, \"bpm\")"
   ]
  }
 ],
 "metadata": {
  "kernelspec": {
   "display_name": "Python 3",
   "language": "python",
   "name": "python3"
  },
  "language_info": {
   "codemirror_mode": {
    "name": "ipython",
    "version": 3
   },
   "file_extension": ".py",
   "mimetype": "text/x-python",
   "name": "python",
   "nbconvert_exporter": "python",
   "pygments_lexer": "ipython3",
   "version": "3.6.10"
  }
 },
 "nbformat": 4,
 "nbformat_minor": 2
}
